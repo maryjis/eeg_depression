{
 "cells": [
  {
   "cell_type": "code",
   "execution_count": 104,
   "id": "b7847651",
   "metadata": {},
   "outputs": [],
   "source": [
    "import os\n",
    "from pathlib import Path\n",
    "import numpy as np\n",
    "from sklearn.linear_model import LogisticRegression\n",
    "from sklearn.ensemble import RandomForestClassifier\n",
    "from sklearn.model_selection import cross_val_score\n",
    "from sklearn import svm\n",
    "from sklearn.feature_selection import SelectKBest, chi2\n",
    "from sklearn.linear_model import ElasticNet\n",
    "from sklearn.neighbors import KNeighborsClassifier\n",
    "from sklearn.ensemble import GradientBoostingClassifier\n",
    "from sklearn.model_selection import StratifiedKFold\n",
    "from sklearn.neural_network import MLPClassifier"
   ]
  },
  {
   "cell_type": "code",
   "execution_count": 105,
   "id": "575d2cd7",
   "metadata": {},
   "outputs": [],
   "source": [
    "SPEC_PATH='/Users/zubrikhina/Documents/datasets/EEG_baseline_with_markers/cross_spectrum_short'"
   ]
  },
  {
   "cell_type": "code",
   "execution_count": 106,
   "id": "3cdd9fe2",
   "metadata": {},
   "outputs": [
    {
     "data": {
      "text/plain": [
       "['MDD', '.DS_Store', 'Health']"
      ]
     },
     "execution_count": 106,
     "metadata": {},
     "output_type": "execute_result"
    }
   ],
   "source": [
    "os.listdir(SPEC_PATH)"
   ]
  },
  {
   "cell_type": "code",
   "execution_count": 107,
   "id": "22396785",
   "metadata": {},
   "outputs": [],
   "source": [
    "def coherence_array(spectrum_file):\n",
    "    diagnosis =0\n",
    "    if spectrum_file.parent.stem=='MDD':\n",
    "        diagnosis=1\n",
    "    array =np.load(spectrum_file).flatten()\n",
    "    array=np.append(array,diagnosis)\n",
    "    return array"
   ]
  },
  {
   "cell_type": "code",
   "execution_count": 108,
   "id": "4d853d7a",
   "metadata": {},
   "outputs": [],
   "source": [
    "spectrum_raws=[]\n",
    "for package in Path(SPEC_PATH).iterdir():\n",
    "    if package.is_dir():\n",
    "        for spectrum_file in package.iterdir():\n",
    "            spectrum_raw =coherence_array(spectrum_file)\n",
    "            spectrum_raws.append(spectrum_raw)"
   ]
  },
  {
   "cell_type": "code",
   "execution_count": 152,
   "id": "b5979e9a",
   "metadata": {},
   "outputs": [],
   "source": [
    "data =np.stack(spectrum_raws)"
   ]
  },
  {
   "cell_type": "code",
   "execution_count": 153,
   "id": "1bced063",
   "metadata": {},
   "outputs": [],
   "source": [
    "idx = np.argwhere(np.all(data[..., :] == 0, axis=0))\n",
    "data = np.delete(data, idx, axis=1)"
   ]
  },
  {
   "cell_type": "code",
   "execution_count": 154,
   "id": "1ef39c52",
   "metadata": {},
   "outputs": [],
   "source": [
    "X=data[:, :-1]\n",
    "Y= data[:, -1]"
   ]
  },
  {
   "cell_type": "code",
   "execution_count": 155,
   "id": "3212d2b9",
   "metadata": {},
   "outputs": [
    {
     "data": {
      "text/plain": [
       "(245, 420)"
      ]
     },
     "execution_count": 155,
     "metadata": {},
     "output_type": "execute_result"
    }
   ],
   "source": [
    "X.shape"
   ]
  },
  {
   "cell_type": "code",
   "execution_count": 156,
   "id": "3ad696e3",
   "metadata": {},
   "outputs": [],
   "source": [
    "def build_models(X,y):    \n",
    "    models = {\n",
    "        'lr_l1': LogisticRegression(penalty='l1',solver='liblinear',C =1),\n",
    "        'lr_l2': LogisticRegression(penalty='l2',solver='liblinear',C =1),\n",
    "#         'rf_7': RandomForestClassifier(n_estimators=100, max_depth=7),\n",
    "        'rf_5': RandomForestClassifier(n_estimators=100, max_depth=5),\n",
    "#         'svm_stand_0.1': svm.SVC(C=0.1),\n",
    "        'svm_stand_0.01': svm.SVC(C=0.01),\n",
    "#         'knn': KNeighborsClassifier(n_neighbors=10),\n",
    "#         'gb': GradientBoostingClassifier(max_depth=5),\n",
    "        'mlp': MLPClassifier(hidden_layer_sizes=(70, 10), max_iter=500,alpha=1,learning_rate_init =0.001)\n",
    "    }\n",
    "    for name, model in models.items():\n",
    "        strat_k_fold = StratifiedKFold(n_splits=10, shuffle=True)\n",
    "        scores = cross_val_score(model, X, y, cv=strat_k_fold, scoring='accuracy')\n",
    "        print(name, f\"{scores.mean():.3f}+/-{scores.std():.3f}\")\n",
    "    "
   ]
  },
  {
   "cell_type": "code",
   "execution_count": 157,
   "id": "c5e078cd",
   "metadata": {
    "scrolled": true
   },
   "outputs": [
    {
     "name": "stdout",
     "output_type": "stream",
     "text": [
      "lr_l1 0.666+/-0.071\n",
      "lr_l2 0.756+/-0.051\n",
      "rf_5 0.878+/-0.091\n",
      "svm_stand_0.01 0.621+/-0.015\n",
      "mlp 0.645+/-0.032\n"
     ]
    }
   ],
   "source": [
    "build_models(X,Y)"
   ]
  },
  {
   "cell_type": "code",
   "execution_count": null,
   "id": "f4c105a3",
   "metadata": {},
   "outputs": [],
   "source": []
  }
 ],
 "metadata": {
  "kernelspec": {
   "display_name": "Python 3 (ipykernel)",
   "language": "python",
   "name": "python3"
  },
  "language_info": {
   "codemirror_mode": {
    "name": "ipython",
    "version": 3
   },
   "file_extension": ".py",
   "mimetype": "text/x-python",
   "name": "python",
   "nbconvert_exporter": "python",
   "pygments_lexer": "ipython3",
   "version": "3.9.7"
  }
 },
 "nbformat": 4,
 "nbformat_minor": 5
}
