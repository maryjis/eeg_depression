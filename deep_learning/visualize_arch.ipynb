{
 "cells": [
  {
   "cell_type": "code",
   "execution_count": 110,
   "id": "ffa4b6c8",
   "metadata": {},
   "outputs": [],
   "source": [
    "import keras\n",
    "from keras import layers\n",
    "import visualkeras\n",
    "from PIL import ImageFont\n",
    "from collections import defaultdict"
   ]
  },
  {
   "cell_type": "code",
   "execution_count": 202,
   "id": "6855b367",
   "metadata": {},
   "outputs": [],
   "source": [
    "input_imag = keras.Input(shape = (64,64,64,1))\n",
    "\n",
    "x = layers.Conv3D(32, (3,3,3), activation='elu', padding='same')(input_imag)\n",
    "x=layers.BatchNormalization()(x)\n",
    "x = layers.MaxPooling3D((2,2,2),strides=(2, 2, 2))(x)\n",
    "x = layers.Conv3D(64, (3,3,3), activation='elu', padding='same')(x)\n",
    "x=layers.BatchNormalization()(x)\n",
    "encoded = layers.MaxPooling3D((2,2,2),strides=(2, 2, 2), name='encoder')(x)\n",
    "\n",
    "x = layers.Conv3DTranspose(64,(2,2,2), activation='elu')(x)\n",
    "x=layers.BatchNormalization()(x)\n",
    "x = layers.Conv3DTranspose(32, (2,2,2),strides=(2, 2, 2),activation='elu')(x)\n",
    "decoded=layers.BatchNormalization()(x)\n",
    "\n",
    "\n",
    "autoencoder = keras.Model(input_imag, [decoded])\n",
    "\n",
    "autoencoder.compile(optimizer='adam', loss='binary_crossentropy')"
   ]
  },
  {
   "cell_type": "code",
   "execution_count": 203,
   "id": "1f642461",
   "metadata": {},
   "outputs": [
    {
     "name": "stdout",
     "output_type": "stream",
     "text": [
      "Model: \"model_26\"\n",
      "_________________________________________________________________\n",
      " Layer (type)                Output Shape              Param #   \n",
      "=================================================================\n",
      " input_31 (InputLayer)       [(None, 64, 64, 64, 1)]   0         \n",
      "                                                                 \n",
      " conv3d_97 (Conv3D)          (None, 64, 64, 64, 32)    896       \n",
      "                                                                 \n",
      " batch_normalization_110 (Ba  (None, 64, 64, 64, 32)   128       \n",
      " tchNormalization)                                               \n",
      "                                                                 \n",
      " max_pooling3d_30 (MaxPoolin  (None, 32, 32, 32, 32)   0         \n",
      " g3D)                                                            \n",
      "                                                                 \n",
      " conv3d_98 (Conv3D)          (None, 32, 32, 32, 64)    55360     \n",
      "                                                                 \n",
      " batch_normalization_111 (Ba  (None, 32, 32, 32, 64)   256       \n",
      " tchNormalization)                                               \n",
      "                                                                 \n",
      " conv3d_transpose_24 (Conv3D  (None, 33, 33, 33, 64)   32832     \n",
      " Transpose)                                                      \n",
      "                                                                 \n",
      " batch_normalization_112 (Ba  (None, 33, 33, 33, 64)   256       \n",
      " tchNormalization)                                               \n",
      "                                                                 \n",
      " conv3d_transpose_25 (Conv3D  (None, 66, 66, 66, 32)   16416     \n",
      " Transpose)                                                      \n",
      "                                                                 \n",
      " batch_normalization_113 (Ba  (None, 66, 66, 66, 32)   128       \n",
      " tchNormalization)                                               \n",
      "                                                                 \n",
      "=================================================================\n",
      "Total params: 106,272\n",
      "Trainable params: 105,888\n",
      "Non-trainable params: 384\n",
      "_________________________________________________________________\n"
     ]
    }
   ],
   "source": [
    "autoencoder.summary()"
   ]
  },
  {
   "cell_type": "code",
   "execution_count": 211,
   "id": "0fdf57de",
   "metadata": {},
   "outputs": [],
   "source": [
    "font = ImageFont.truetype(\"times new roman.ttf\", 17)"
   ]
  },
  {
   "cell_type": "code",
   "execution_count": 212,
   "id": "7398cd58",
   "metadata": {},
   "outputs": [],
   "source": [
    "color_map = defaultdict(dict)\n",
    "color_map[layers.Conv3D]['fill'] = 'orange'\n",
    "color_map[layers.BatchNormalization]['fill'] = 'gray'\n",
    "color_map[layers.UpSampling3D]['fill'] = 'red'\n"
   ]
  },
  {
   "cell_type": "code",
   "execution_count": 213,
   "id": "9f3ca546",
   "metadata": {},
   "outputs": [
    {
     "data": {
      "image/png": "[encoded data removed]",
      "text/plain": [
       "<PIL.Image.Image image mode=RGBA size=1984x402 at 0x7FD4900B6BE0>"
      ]
     },
     "execution_count": 213,
     "metadata": {},
     "output_type": "execute_result"
    }
   ],
   "source": [
    "visualkeras.layered_view(autoencoder, legend=True,min_xy=7, font =font,color_map=color_map)"
   ]
  },
  {
   "cell_type": "code",
   "execution_count": 207,
   "id": "57447a15",
   "metadata": {},
   "outputs": [],
   "source": [
    "?layers.Conv3D"
   ]
  },
  {
   "cell_type": "code",
   "execution_count": null,
   "id": "08c45824",
   "metadata": {},
   "outputs": [],
   "source": [
    "class EEGAutoencoder(nn.Module):\n",
    "    def __init__(self):\n",
    "        super(EEGAutoencoder, self).__init__()\n",
    "        self.encoder = nn.Sequential(\n",
    "            nn.Conv3d(1, 16, 3, stride=1, padding=1),\n",
    "            nn.BatchNorm3d(16),\n",
    "            nn.ELU(True),\n",
    "            nn.Conv3d(16, 16, 3, stride=1, padding=1),\n",
    "            nn.BatchNorm3d(16),\n",
    "            nn.ELU(True),\n",
    "            nn.Dropout3d(p=0.2),\n",
    "            nn.MaxPool3d(2, stride=2),  # b, 16, 5, 5\n",
    "            nn.Conv3d(16, 8, 3, stride=1, padding=1),  # b, 8, 3, 3\n",
    "            nn.BatchNorm3d(8),\n",
    "            nn.ELU(True),\n",
    "            nn.MaxPool3d(2, stride=2), \n",
    "        )\n",
    "        self.decoder = nn.Sequential(\n",
    "            nn.ConvTranspose3d(8, 16, 2, stride=2),  # b, 16, 5, 5\n",
    "            nn.ELU(True),\n",
    "            nn.BatchNorm3d(16),\n",
    "            nn.ConvTranspose3d(16, 16, 2, stride=2),  # b, 16, 5, 5\n",
    "            nn.ELU(True),\n",
    "            nn.BatchNorm3d(16),\n",
    "            nn.ConvTranspose3d(16, 1, 2, stride=2),  # b, 8, 15, 15\n",
    "            nn.BatchNorm3d(1),\n",
    "            nn.ELU(True)\n",
    "        )\n",
    "        self.pool =nn.AdaptiveAvgPool3d((8,8,8))\n",
    "        self.fc = nn.Linear(8*8*64, 2)"
   ]
  },
  {
   "cell_type": "code",
   "execution_count": null,
   "id": "629f1732",
   "metadata": {},
   "outputs": [],
   "source": []
  }
 ],
 "metadata": {
  "kernelspec": {
   "display_name": "Python 3 (ipykernel)",
   "language": "python",
   "name": "python3"
  },
  "language_info": {
   "codemirror_mode": {
    "name": "ipython",
    "version": 3
   },
   "file_extension": ".py",
   "mimetype": "text/x-python",
   "name": "python",
   "nbconvert_exporter": "python",
   "pygments_lexer": "ipython3",
   "version": "3.9.12"
  }
 },
 "nbformat": 4,
 "nbformat_minor": 5
}
