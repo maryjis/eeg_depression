{
 "cells": [
  {
   "cell_type": "code",
   "execution_count": 1,
   "id": "dbe2d4f0",
   "metadata": {},
   "outputs": [],
   "source": [
    "import pandas as pd\n",
    "from sklearn.ensemble import RandomForestClassifier\n",
    "from sklearn.linear_model import LogisticRegression\n",
    "import pandas as pd\n",
    "from sklearn.model_selection import cross_val_score\n",
    "from sklearn.preprocessing import LabelEncoder\n",
    "from sklearn.pipeline import Pipeline\n",
    "from sklearn.feature_selection import SelectKBest, chi2\n",
    "from sklearn.model_selection import KFold,StratifiedKFold\n",
    "import numpy as np\n",
    "from pathlib import Path\n",
    "from sklearn.metrics import roc_auc_score, accuracy_score, f1_score"
   ]
  },
  {
   "cell_type": "code",
   "execution_count": 2,
   "id": "591ae4f7",
   "metadata": {},
   "outputs": [],
   "source": [
    "DATA_PATH=\"/Users/zubrikhina/Documents/datasets/EEG_baseline_with_markers/all_data_features\""
   ]
  },
  {
   "cell_type": "code",
   "execution_count": 3,
   "id": "61b65c4c",
   "metadata": {},
   "outputs": [],
   "source": [
    "NOVOSSIB_DATA_PATH='/Users/zubrikhina/Documents/datasets/eeg_novossibirsk_preproc'"
   ]
  },
  {
   "cell_type": "code",
   "execution_count": 4,
   "id": "7d9f3dd3",
   "metadata": {},
   "outputs": [],
   "source": [
    "importance_features_path ='results/importance_features_bands.csv.xls'"
   ]
  },
  {
   "cell_type": "code",
   "execution_count": 5,
   "id": "5b7aefc8",
   "metadata": {},
   "outputs": [],
   "source": [
    "novossib_data =pd.read_csv(NOVOSSIB_DATA_PATH +'/bands.csv')\n",
    "kazah_data =pd.read_csv(DATA_PATH +'/bands.csv')\n",
    "importance_features =pd.read_excel(importance_features_path)"
   ]
  },
  {
   "cell_type": "code",
   "execution_count": 6,
   "id": "92799da0",
   "metadata": {},
   "outputs": [],
   "source": [
    "features =importance_features['Unnamed: 0'].to_list()"
   ]
  },
  {
   "cell_type": "code",
   "execution_count": 7,
   "id": "b34d75ff",
   "metadata": {},
   "outputs": [],
   "source": [
    "# novossib_data =novossib_data[features +['target']]\n",
    "# kazah_data =kazah_data[features +['target']]"
   ]
  },
  {
   "cell_type": "code",
   "execution_count": 8,
   "id": "56c9c1dd",
   "metadata": {},
   "outputs": [],
   "source": [
    "novossib_data =novossib_data.fillna(0)"
   ]
  },
  {
   "cell_type": "code",
   "execution_count": 9,
   "id": "95ddd2a7",
   "metadata": {},
   "outputs": [],
   "source": [
    "def importance_features(columns, coef, count):\n",
    "    imp_features =sorted(list(zip(columns,coef)), key =lambda x: np.abs(x[-1]), reverse=True)\n",
    "    return imp_features[:count]   "
   ]
  },
  {
   "cell_type": "code",
   "execution_count": 10,
   "id": "3052bfa9",
   "metadata": {},
   "outputs": [],
   "source": [
    "y =kazah_data['target']\n",
    "X=kazah_data.drop(columns=['fn','target'])"
   ]
  },
  {
   "cell_type": "code",
   "execution_count": 11,
   "id": "45bb4eda",
   "metadata": {},
   "outputs": [],
   "source": [
    "novossib_data =novossib_data.sample(frac=1).reset_index(drop =True)\n",
    "mdd =novossib_data.loc[novossib_data['target']==1]\n",
    "health =novossib_data.loc[novossib_data['target']==0][:50]\n",
    "novossib_data_un =pd.concat([mdd,health])\n",
    "novossib_data_un=novossib_data_un.reset_index(drop =True)"
   ]
  },
  {
   "cell_type": "code",
   "execution_count": 12,
   "id": "83faa6ba",
   "metadata": {},
   "outputs": [
    {
     "data": {
      "text/plain": [
       "False    424\n",
       "True      47\n",
       "Name: target, dtype: int64"
      ]
     },
     "execution_count": 12,
     "metadata": {},
     "output_type": "execute_result"
    }
   ],
   "source": [
    "novossib_data['target'].value_counts()"
   ]
  },
  {
   "cell_type": "code",
   "execution_count": 13,
   "id": "166ad3ed",
   "metadata": {},
   "outputs": [],
   "source": [
    "y_test =novossib_data_un['target']\n",
    "X_test =novossib_data_un.drop(columns=['fn','target'])"
   ]
  },
  {
   "cell_type": "code",
   "execution_count": 14,
   "id": "bd714474",
   "metadata": {},
   "outputs": [],
   "source": [
    "model =RandomForestClassifier(n_estimators=100, max_depth=7)"
   ]
  },
  {
   "cell_type": "code",
   "execution_count": 15,
   "id": "aab585a2",
   "metadata": {},
   "outputs": [],
   "source": [
    "scores = cross_val_score(model, X, y, cv=10, scoring='f1')"
   ]
  },
  {
   "cell_type": "code",
   "execution_count": 16,
   "id": "cac39bc6",
   "metadata": {},
   "outputs": [
    {
     "data": {
      "text/plain": [
       "0.8234739516776131"
      ]
     },
     "execution_count": 16,
     "metadata": {},
     "output_type": "execute_result"
    }
   ],
   "source": [
    "scores.mean()"
   ]
  },
  {
   "cell_type": "code",
   "execution_count": 17,
   "id": "9060ecfd",
   "metadata": {},
   "outputs": [],
   "source": [
    "model =model.fit(X,y)"
   ]
  },
  {
   "cell_type": "code",
   "execution_count": 18,
   "id": "500ed225",
   "metadata": {},
   "outputs": [],
   "source": [
    "set1 =importance_features(X.columns.to_list(), model.feature_importances_, 20)"
   ]
  },
  {
   "cell_type": "code",
   "execution_count": 19,
   "id": "21d17381",
   "metadata": {},
   "outputs": [
    {
     "data": {
      "text/plain": [
       "0.5360824742268041"
      ]
     },
     "execution_count": 19,
     "metadata": {},
     "output_type": "execute_result"
    }
   ],
   "source": [
    "model.score(X_test,y_test)"
   ]
  },
  {
   "cell_type": "code",
   "execution_count": 20,
   "id": "4af5283b",
   "metadata": {},
   "outputs": [],
   "source": [
    "model =RandomForestClassifier(n_estimators=100, max_depth=7)"
   ]
  },
  {
   "cell_type": "code",
   "execution_count": 21,
   "id": "3c68a6f9",
   "metadata": {},
   "outputs": [],
   "source": [
    "scores = cross_val_score(model, X_test,y_test, cv=10, scoring='f1')"
   ]
  },
  {
   "cell_type": "code",
   "execution_count": 22,
   "id": "aa7fe9d0",
   "metadata": {},
   "outputs": [
    {
     "data": {
      "text/plain": [
       "0.7249350649350649"
      ]
     },
     "execution_count": 22,
     "metadata": {},
     "output_type": "execute_result"
    }
   ],
   "source": [
    "scores.mean()"
   ]
  },
  {
   "cell_type": "code",
   "execution_count": 23,
   "id": "af44bf89",
   "metadata": {},
   "outputs": [
    {
     "data": {
      "text/plain": [
       "RandomForestClassifier(max_depth=7)"
      ]
     },
     "execution_count": 23,
     "metadata": {},
     "output_type": "execute_result"
    }
   ],
   "source": [
    "model.fit(X_test,y_test)"
   ]
  },
  {
   "cell_type": "code",
   "execution_count": 24,
   "id": "66605f74",
   "metadata": {},
   "outputs": [],
   "source": [
    "set2 =importance_features(X_test.columns.to_list(), model.feature_importances_, 20)"
   ]
  },
  {
   "cell_type": "code",
   "execution_count": 25,
   "id": "c68f9347",
   "metadata": {},
   "outputs": [],
   "source": [
    "set1 ={elem for elem, _ in set1}"
   ]
  },
  {
   "cell_type": "code",
   "execution_count": 26,
   "id": "2931f0a9",
   "metadata": {},
   "outputs": [
    {
     "data": {
      "text/plain": [
       "{'bands_alpha_C3',\n",
       " 'bands_alpha_F3',\n",
       " 'bands_beta_C3',\n",
       " 'bands_beta_C4',\n",
       " 'bands_beta_F4',\n",
       " 'bands_beta_F7',\n",
       " 'bands_beta_F8',\n",
       " 'bands_beta_Fp1',\n",
       " 'bands_beta_Fp2',\n",
       " 'bands_beta_Fz',\n",
       " 'bands_beta_O2',\n",
       " 'bands_beta_Pz',\n",
       " 'bands_gamma_F4',\n",
       " 'bands_gamma_F8',\n",
       " 'bands_gamma_Fp1',\n",
       " 'bands_gamma_Fz',\n",
       " 'bands_gamma_O1',\n",
       " 'bands_gamma_O2',\n",
       " 'bands_theta_Fp1',\n",
       " 'bands_theta_O1'}"
      ]
     },
     "execution_count": 26,
     "metadata": {},
     "output_type": "execute_result"
    }
   ],
   "source": [
    "set1"
   ]
  },
  {
   "cell_type": "code",
   "execution_count": 27,
   "id": "57ad3415",
   "metadata": {},
   "outputs": [],
   "source": [
    "set2 ={elem for elem, _ in set2}"
   ]
  },
  {
   "cell_type": "code",
   "execution_count": 28,
   "id": "e49b9756",
   "metadata": {},
   "outputs": [
    {
     "data": {
      "text/plain": [
       "{'bands_alpha_C3',\n",
       " 'bands_alpha_F4',\n",
       " 'bands_alpha_F7',\n",
       " 'bands_alpha_Fp2',\n",
       " 'bands_alpha_Fz',\n",
       " 'bands_beta_C3',\n",
       " 'bands_beta_F3',\n",
       " 'bands_beta_F7',\n",
       " 'bands_beta_Fp2',\n",
       " 'bands_beta_Fz',\n",
       " 'bands_beta_O2',\n",
       " 'bands_beta_P3',\n",
       " 'bands_gamma_F3',\n",
       " 'bands_gamma_Fp2',\n",
       " 'bands_gamma_O2',\n",
       " 'bands_gamma_Pz',\n",
       " 'bands_theta_F4',\n",
       " 'bands_theta_Fp1',\n",
       " 'bands_theta_Fp2',\n",
       " 'bands_theta_O2'}"
      ]
     },
     "execution_count": 28,
     "metadata": {},
     "output_type": "execute_result"
    }
   ],
   "source": [
    "set2"
   ]
  },
  {
   "cell_type": "code",
   "execution_count": 29,
   "id": "89187931",
   "metadata": {},
   "outputs": [
    {
     "data": {
      "text/plain": [
       "{'bands_alpha_C3',\n",
       " 'bands_beta_C3',\n",
       " 'bands_beta_F7',\n",
       " 'bands_beta_Fp2',\n",
       " 'bands_beta_Fz',\n",
       " 'bands_beta_O2',\n",
       " 'bands_gamma_O2',\n",
       " 'bands_theta_Fp1'}"
      ]
     },
     "execution_count": 29,
     "metadata": {},
     "output_type": "execute_result"
    }
   ],
   "source": [
    "set1 & set2"
   ]
  },
  {
   "cell_type": "code",
   "execution_count": 30,
   "id": "c9a21e9a",
   "metadata": {},
   "outputs": [
    {
     "data": {
      "text/plain": [
       "{'bands_beta_F4',\n",
       " 'bands_beta_F8',\n",
       " 'bands_beta_Fp1',\n",
       " 'bands_beta_Fz',\n",
       " 'bands_beta_O2',\n",
       " 'bands_beta_Pz',\n",
       " 'bands_gamma_F4',\n",
       " 'bands_gamma_Fp1',\n",
       " 'bands_gamma_Fz',\n",
       " 'bands_gamma_O2'}"
      ]
     },
     "execution_count": 30,
     "metadata": {},
     "output_type": "execute_result"
    }
   ],
   "source": [
    "set(features) & set1"
   ]
  },
  {
   "cell_type": "code",
   "execution_count": 31,
   "id": "eb38936c",
   "metadata": {},
   "outputs": [
    {
     "data": {
      "text/plain": [
       "{'bands_beta_Fz', 'bands_beta_O2', 'bands_gamma_O2'}"
      ]
     },
     "execution_count": 31,
     "metadata": {},
     "output_type": "execute_result"
    }
   ],
   "source": [
    "set(features) & set2"
   ]
  },
  {
   "cell_type": "code",
   "execution_count": null,
   "id": "f90b23d7",
   "metadata": {},
   "outputs": [],
   "source": []
  },
  {
   "cell_type": "code",
   "execution_count": null,
   "id": "6f3fecff",
   "metadata": {},
   "outputs": [],
   "source": []
  }
 ],
 "metadata": {
  "kernelspec": {
   "display_name": "Python 3 (ipykernel)",
   "language": "python",
   "name": "python3"
  },
  "language_info": {
   "codemirror_mode": {
    "name": "ipython",
    "version": 3
   },
   "file_extension": ".py",
   "mimetype": "text/x-python",
   "name": "python",
   "nbconvert_exporter": "python",
   "pygments_lexer": "ipython3",
   "version": "3.9.7"
  }
 },
 "nbformat": 4,
 "nbformat_minor": 5
}
